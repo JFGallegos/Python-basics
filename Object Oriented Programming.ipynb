{
 "cells": [
  {
   "cell_type": "markdown",
   "metadata": {},
   "source": [
    "# This notebook contains examples of object oriented programming"
   ]
  },
  {
   "cell_type": "markdown",
   "metadata": {},
   "source": [
    "Example of how to create a class"
   ]
  },
  {
   "cell_type": "code",
   "execution_count": 5,
   "metadata": {},
   "outputs": [],
   "source": [
    "## EXAMPLE: simple Coordinate class\n",
    "#################\n",
    "\n",
    "\n",
    "## First we define the class where:\n",
    "\n",
    "## class: class definition\n",
    "## Coordinate: name/type\n",
    "## Object: class parent\n",
    "\n",
    "\n",
    "## the word object means that Coordinate is a Python object and inherits all its attributes\n",
    "## Coordinate is a subclass of object \n",
    "## Object is a superclass of Coordinate\n",
    "\n",
    "class Coordinate(object):\n",
    "    \"\"\" A coordinate made up of an x and y value \"\"\"\n",
    "    \n",
    "    \n",
    "## Initialize data attributes where:\n",
    "\n",
    "## __init__ : special method to create an instance\n",
    "## self.x: data attribute for Coordinate object x\n",
    "## self.y: data attribute for Coordinate object y\n",
    "## self: parameter to refer to an instance of the class\n",
    "## x and y: what data initializes a Coordinate object\n",
    "\n",
    "\n",
    "    def __init__(self, x, y):\n",
    "        \"\"\" Sets the x and y values \"\"\"\n",
    "        self.x = x\n",
    "        self.y = y\n",
    "\n",
    "## Now we can define a method for the Coordinate class, where:\n",
    "\n",
    "## self: use it to refer to any instance\n",
    "## other: another parameter to the method\n",
    "    \n",
    "    def distance(self, other):\n",
    "        \"\"\" Returns the euclidean distance between two points \"\"\"\n",
    "        x_diff_sq = (self.x-other.x)**2\n",
    "        y_diff_sq = (self.y-other.y)**2\n",
    "        return (x_diff_sq + y_diff_sq)**0.5   \n",
    "    \n",
    "## Finally we can add a __str__ method when using print on the class object.\n",
    "## Using this method we can choose what this method will print. Note that this method MUST return a string.\n",
    "\n",
    "    def __str__(self):\n",
    "        \"\"\" Returns a string representation of self \"\"\"\n",
    "        return \"<\" + str(self.x) + \",\" + str(self.y) + \">\"\n",
    "        \n",
    "        "
   ]
  },
  {
   "cell_type": "markdown",
   "metadata": {},
   "source": [
    "How to create a new object of type Coordinate"
   ]
  },
  {
   "cell_type": "code",
   "execution_count": 6,
   "metadata": {},
   "outputs": [
    {
     "name": "stdout",
     "output_type": "stream",
     "text": [
      "coordinate x of object c = 3 coordinate x of object origin= 0\n"
     ]
    }
   ],
   "source": [
    "## Example where we create a new object of type Coordinate and pass in 3 and 4 to the __init__ (instance)\n",
    "\n",
    "c = Coordinate(3,4)\n",
    "\n",
    "## Example where we create a new object of type Coordinate and pass in 0 and 0 to the __init__ (instance)\n",
    "\n",
    "origin = Coordinate(0,0)\n",
    "\n",
    "\n",
    "## We use the dot to access an attribute of the object. E.g.,\n",
    "\n",
    "print(\"coordinate x of object c =\",c.x,\"coordinate x of object origin=\" ,origin.x)\n",
    "\n",
    "\n",
    "## Data attributes of an instance are called instance variables\n"
   ]
  },
  {
   "cell_type": "markdown",
   "metadata": {},
   "source": [
    "How to use a method"
   ]
  },
  {
   "cell_type": "code",
   "execution_count": 7,
   "metadata": {},
   "outputs": [
    {
     "name": "stdout",
     "output_type": "stream",
     "text": [
      "5.0\n",
      "5.0\n"
     ]
    }
   ],
   "source": [
    "## Now if we want to use the method distance of the class type Coordinate we can use the two following procedures:\n",
    "\n",
    "print(c.distance(origin))\n",
    "\n",
    "# Where:\n",
    "\n",
    "# c: object to call\n",
    "# distance: name of method\n",
    "# parameters not including self as self is implied to be c\n",
    "\n",
    "## Which is equivalent to:\n",
    "\n",
    "print(Coordinate.distance(c, origin))\n",
    "\n",
    "# Where:\n",
    "# Coordinate: name of the class\n",
    "# name of the method\n",
    "# parameters, including an object to call the method on, representing self\n"
   ]
  },
  {
   "cell_type": "markdown",
   "metadata": {},
   "source": [
    "Print representation of an object"
   ]
  },
  {
   "cell_type": "code",
   "execution_count": 8,
   "metadata": {},
   "outputs": [
    {
     "name": "stdout",
     "output_type": "stream",
     "text": [
      "<3,4>\n"
     ]
    }
   ],
   "source": [
    "## Example\n",
    "\n",
    "print (c)"
   ]
  },
  {
   "cell_type": "code",
   "execution_count": 9,
   "metadata": {},
   "outputs": [
    {
     "name": "stdout",
     "output_type": "stream",
     "text": [
      "<class '__main__.Coordinate'>\n"
     ]
    }
   ],
   "source": [
    "## We can verify if the type of object c is a class Coordinate. I.e.,\n",
    "\n",
    "print(type(c))"
   ]
  },
  {
   "cell_type": "code",
   "execution_count": 10,
   "metadata": {},
   "outputs": [
    {
     "name": "stdout",
     "output_type": "stream",
     "text": [
      "<class '__main__.Coordinate'>\n"
     ]
    }
   ],
   "source": [
    "## Also a coordinate is a class\n",
    "\n",
    "print(Coordinate)"
   ]
  },
  {
   "cell_type": "code",
   "execution_count": 11,
   "metadata": {},
   "outputs": [
    {
     "name": "stdout",
     "output_type": "stream",
     "text": [
      "<class 'type'>\n"
     ]
    }
   ],
   "source": [
    "##Thus, a Coordinate class is a type of object\n",
    "\n",
    "print(type(Coordinate))"
   ]
  },
  {
   "cell_type": "code",
   "execution_count": 12,
   "metadata": {},
   "outputs": [
    {
     "name": "stdout",
     "output_type": "stream",
     "text": [
      "True\n"
     ]
    }
   ],
   "source": [
    "## We can check also if an object is a Coordinate\n",
    "\n",
    "print(isinstance(c, Coordinate))"
   ]
  },
  {
   "cell_type": "markdown",
   "metadata": {},
   "source": [
    "Another example. Fractions"
   ]
  },
  {
   "cell_type": "code",
   "execution_count": 1,
   "metadata": {},
   "outputs": [],
   "source": [
    "## EXAMPLE: simple class to represent fractions\n",
    "## Try adding more built-in operations like multiply, divide\n",
    "### Try adding a reduce method to reduce the fraction (use gcd)\n",
    "#################\n",
    "\n",
    "class Fraction(object):\n",
    "    \"\"\"\n",
    "    A number represented as a fraction\n",
    "    \"\"\"\n",
    "    def __init__(self, num, denom):\n",
    "        \"\"\" num and denom are integers \"\"\"\n",
    "        assert type(num) == int and type(denom) == int, \"ints not used\"\n",
    "        self.num = num\n",
    "        self.denom = denom\n",
    "    def __str__(self):\n",
    "        \"\"\" Retunrs a string representation of self \"\"\"\n",
    "        return str(self.num) + \"/\" + str(self.denom)\n",
    "    def __add__(self, other):\n",
    "        \"\"\" Returns a new fraction representing the addition \"\"\"\n",
    "        top = self.num*other.denom + self.denom*other.num\n",
    "        bott = self.denom*other.denom\n",
    "        return Fraction(top, bott)\n",
    "    def __sub__(self, other):\n",
    "        \"\"\" Returns a new fraction representing the subtraction \"\"\"\n",
    "        top = self.num*other.denom - self.denom*other.num\n",
    "        bott = self.denom*other.denom\n",
    "        return Fraction(top, bott)\n",
    "    def __float__(self):\n",
    "        \"\"\" Returns a float value of the fraction \"\"\"\n",
    "        return self.num/self.denom\n",
    "    def inverse(self):\n",
    "        \"\"\" Returns a new fraction representing 1/self \"\"\"\n",
    "        return Fraction(self.denom, self.num)"
   ]
  },
  {
   "cell_type": "code",
   "execution_count": 3,
   "metadata": {},
   "outputs": [
    {
     "name": "stdout",
     "output_type": "stream",
     "text": [
      "144/64\n",
      "2.25\n",
      "2.25\n",
      "1.3333333333333333\n"
     ]
    }
   ],
   "source": [
    "a = Fraction(1,4)\n",
    "b = Fraction(3,4)\n",
    "c = a + b + # c is a Fraction object\n",
    "print(c)\n",
    "print(float(c))\n",
    "print(Fraction.__float__(c))\n",
    "print(float(b.inverse()))"
   ]
  },
  {
   "cell_type": "markdown",
   "metadata": {},
   "source": [
    "A final example:"
   ]
  },
  {
   "cell_type": "code",
   "execution_count": 13,
   "metadata": {},
   "outputs": [],
   "source": [
    "## EXAMPLE: a set of integers as class\n",
    "##############\n",
    "class intSet(object):\n",
    "    \"\"\"\n",
    "    An intSet is a set of integers\n",
    "    The value is represented by a list of ints, self.vals\n",
    "    Each int in the set occurs in self.vals exactly once\n",
    "    \"\"\"\n",
    "    def __init__(self):\n",
    "        \"\"\" Create an empty set of integers \"\"\"\n",
    "        self.vals = []\n",
    "\n",
    "    def insert(self, e):\n",
    "        \"\"\" Assumes e is an integer and inserts e into self \"\"\"\n",
    "        if not e in self.vals:\n",
    "            self.vals.append(e)\n",
    "\n",
    "    def member(self, e):\n",
    "        \"\"\" Assumes e is an integer\n",
    "        Returns True if e is in self, and False otherwise \"\"\"\n",
    "        return e in self.vals\n",
    "\n",
    "    def remove(self, e):\n",
    "        \"\"\" Assumes e is an integer and removes e from self\n",
    "        Raises ValueError if e is not in self \"\"\"\n",
    "        try:\n",
    "            self.vals.remove(e)\n",
    "        except:\n",
    "            raise ValueError(str(e) + ' not found')\n",
    "\n",
    "    def __str__(self):\n",
    "        \"\"\" Returns a string representation of self \"\"\"\n",
    "        self.vals.sort()\n",
    "        return '{' + ','.join([str(e) for e in self.vals]) + '}'\n"
   ]
  },
  {
   "cell_type": "code",
   "execution_count": 14,
   "metadata": {},
   "outputs": [
    {
     "name": "stdout",
     "output_type": "stream",
     "text": [
      "{}\n"
     ]
    }
   ],
   "source": [
    "s = intSet()\n",
    "print(s)"
   ]
  },
  {
   "cell_type": "code",
   "execution_count": 20,
   "metadata": {},
   "outputs": [
    {
     "ename": "AssertionError",
     "evalue": "ints not used",
     "output_type": "error",
     "traceback": [
      "\u001b[0;31m---------------------------------------------------------------------------\u001b[0m",
      "\u001b[0;31mAssertionError\u001b[0m                            Traceback (most recent call last)",
      "\u001b[0;32m<ipython-input-20-03ca184f0f04>\u001b[0m in \u001b[0;36m<module>\u001b[0;34m\u001b[0m\n\u001b[0;32m----> 1\u001b[0;31m \u001b[0mc\u001b[0m \u001b[0;34m=\u001b[0m \u001b[0mFraction\u001b[0m\u001b[0;34m(\u001b[0m\u001b[0;36m3.14\u001b[0m\u001b[0;34m,\u001b[0m \u001b[0;36m2.7\u001b[0m\u001b[0;34m)\u001b[0m\u001b[0;34m\u001b[0m\u001b[0;34m\u001b[0m\u001b[0m\n\u001b[0m",
      "\u001b[0;32m<ipython-input-14-fc3073d1ddb2>\u001b[0m in \u001b[0;36m__init__\u001b[0;34m(self, num, denom)\u001b[0m\n\u001b[1;32m     10\u001b[0m     \u001b[0;32mdef\u001b[0m \u001b[0m__init__\u001b[0m\u001b[0;34m(\u001b[0m\u001b[0mself\u001b[0m\u001b[0;34m,\u001b[0m \u001b[0mnum\u001b[0m\u001b[0;34m,\u001b[0m \u001b[0mdenom\u001b[0m\u001b[0;34m)\u001b[0m\u001b[0;34m:\u001b[0m\u001b[0;34m\u001b[0m\u001b[0;34m\u001b[0m\u001b[0m\n\u001b[1;32m     11\u001b[0m         \u001b[0;34m\"\"\" num and denom are integers \"\"\"\u001b[0m\u001b[0;34m\u001b[0m\u001b[0;34m\u001b[0m\u001b[0m\n\u001b[0;32m---> 12\u001b[0;31m         \u001b[0;32massert\u001b[0m \u001b[0mtype\u001b[0m\u001b[0;34m(\u001b[0m\u001b[0mnum\u001b[0m\u001b[0;34m)\u001b[0m \u001b[0;34m==\u001b[0m \u001b[0mint\u001b[0m \u001b[0;32mand\u001b[0m \u001b[0mtype\u001b[0m\u001b[0;34m(\u001b[0m\u001b[0mdenom\u001b[0m\u001b[0;34m)\u001b[0m \u001b[0;34m==\u001b[0m \u001b[0mint\u001b[0m\u001b[0;34m,\u001b[0m \u001b[0;34m\"ints not used\"\u001b[0m\u001b[0;34m\u001b[0m\u001b[0;34m\u001b[0m\u001b[0m\n\u001b[0m\u001b[1;32m     13\u001b[0m         \u001b[0mself\u001b[0m\u001b[0;34m.\u001b[0m\u001b[0mnum\u001b[0m \u001b[0;34m=\u001b[0m \u001b[0mnum\u001b[0m\u001b[0;34m\u001b[0m\u001b[0;34m\u001b[0m\u001b[0m\n\u001b[1;32m     14\u001b[0m         \u001b[0mself\u001b[0m\u001b[0;34m.\u001b[0m\u001b[0mdenom\u001b[0m \u001b[0;34m=\u001b[0m \u001b[0mdenom\u001b[0m\u001b[0;34m\u001b[0m\u001b[0;34m\u001b[0m\u001b[0m\n",
      "\u001b[0;31mAssertionError\u001b[0m: ints not used"
     ]
    }
   ],
   "source": [
    "s.insert(3)\n",
    "s.insert(4)\n",
    "s.insert(3)\n",
    "print(s)"
   ]
  },
  {
   "cell_type": "code",
   "execution_count": 18,
   "metadata": {},
   "outputs": [
    {
     "data": {
      "text/plain": [
       "<__main__.Fraction at 0x1070fc410>"
      ]
     },
     "execution_count": 18,
     "metadata": {},
     "output_type": "execute_result"
    }
   ],
   "source": []
  }
 ],
 "metadata": {
  "kernelspec": {
   "display_name": "Python 3",
   "language": "python",
   "name": "python3"
  },
  "language_info": {
   "codemirror_mode": {
    "name": "ipython",
    "version": 3
   },
   "file_extension": ".py",
   "mimetype": "text/x-python",
   "name": "python",
   "nbconvert_exporter": "python",
   "pygments_lexer": "ipython3",
   "version": "3.7.4"
  }
 },
 "nbformat": 4,
 "nbformat_minor": 4
}
