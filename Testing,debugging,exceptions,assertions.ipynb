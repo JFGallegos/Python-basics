{
 "cells": [
  {
   "cell_type": "markdown",
   "metadata": {},
   "source": [
    "# This notebook contains examples of Testing, Debugging Exceptions and Assertions."
   ]
  },
  {
   "cell_type": "code",
   "execution_count": null,
   "metadata": {},
   "outputs": [],
   "source": [
    "import numpy as np"
   ]
  },
  {
   "cell_type": "markdown",
   "metadata": {},
   "source": [
    "## Exceptions and Assertions list:"
   ]
  },
  {
   "cell_type": "markdown",
   "metadata": {},
   "source": [
    "Common error types:\n",
    "    \n",
    "•SyntaxError: Python can’t parse program \\\n",
    "•NameError: local or global name not found \\\n",
    "•AttributeError: attribute reference fails \\\n",
    "•TypeError: operand doesn’t have correct type \\\n",
    "•ValueError: operand type okay, but value is illegal \\\n",
    "•IOError: IO system reports malfunction (e.g. file not found)"
   ]
  },
  {
   "cell_type": "markdown",
   "metadata": {},
   "source": [
    "Handlers for exceptions"
   ]
  },
  {
   "cell_type": "code",
   "execution_count": 2,
   "metadata": {},
   "outputs": [
    {
     "name": "stdin",
     "output_type": "stream",
     "text": [
      "Tell me one number: 4\n",
      "Tell me another number: 4\n"
     ]
    },
    {
     "name": "stdout",
     "output_type": "stream",
     "text": [
      "1.0\n"
     ]
    }
   ],
   "source": [
    "## Example\n",
    "\n",
    "try:\n",
    "    \n",
    "    a = int(input(\"Tell me one number:\"))\n",
    "    b = int(input(\"Tell me another number:\"))\n",
    "    print(a/b)\n",
    "    \n",
    "except:\n",
    "    \n",
    "    print(\"Bug in user input.\")\n",
    "\n",
    "\n"
   ]
  },
  {
   "cell_type": "code",
   "execution_count": 3,
   "metadata": {},
   "outputs": [
    {
     "name": "stdin",
     "output_type": "stream",
     "text": [
      "Tell me one number: 3\n",
      "Tell me another number: a\n"
     ]
    },
    {
     "name": "stdout",
     "output_type": "stream",
     "text": [
      "Could not convert to a number.\n"
     ]
    }
   ],
   "source": [
    "## Separate except clauses to deal with particular type of exception\n",
    "\n",
    "    \n",
    "try:\n",
    "    \n",
    "    a = int(input(\"Tell me one number:\"))\n",
    "    b = int(input(\"Tell me another number:\"))\n",
    "    \n",
    "    print(\"a/b = \", a/b)\n",
    "    print(\"a+b= \", a+b)\n",
    "    \n",
    "except ValueError:\n",
    "    \n",
    "    print(\"Could not convert to a number.\")\n",
    "\n",
    "except ZeroDivisionError:\n",
    "\n",
    "    print(\"Can't divide by zero\")\n",
    "\n",
    "except:\n",
    "    \n",
    "    print(\"Something went very wrong.\")"
   ]
  },
  {
   "cell_type": "markdown",
   "metadata": {},
   "source": [
    "## Rising an exception"
   ]
  },
  {
   "cell_type": "code",
   "execution_count": 4,
   "metadata": {},
   "outputs": [
    {
     "name": "stdout",
     "output_type": "stream",
     "text": [
      "[[['peter', 'parker'], [80.0, 70.0, 85.0], 78.33333333333333], [['bruce', 'wayne'], [100.0, 80.0, 74.0], 84.66666666666667]]\n"
     ]
    }
   ],
   "source": [
    "## Example : Raising an exception\n",
    "\n",
    "#Assume we are given a class listfor a subject: each entry is a list of two parts\n",
    "\n",
    "#a list of first and last name for a student\n",
    "#a list of grades on assignments\n",
    "# we want to create a new class list, with name, grades, and an average\n",
    "\n",
    "test_grades= [[['peter', 'parker'], [80.0, 70.0, 85.0]],\n",
    "             [['bruce', 'wayne'], [100.0, 80.0, 74.0]]]\n",
    "\n",
    "## We create the necessary functions\n",
    "\n",
    "def get_stats(class_list):\n",
    "    \n",
    "    new_stats= []\n",
    "    \n",
    "    for element in class_list:\n",
    "        \n",
    "        new_stats.append([element[0], element[1], avg(element[1])])\n",
    "        \n",
    "    return new_stats\n",
    "\n",
    "def avg(grades):\n",
    "    \n",
    "    return sum(grades)/len(grades)\n",
    "\n",
    "\n",
    "### In the above case we would habe no problem\n",
    "\n",
    "## I.e.,\n",
    "\n",
    "print(get_stats(test_grades))"
   ]
  },
  {
   "cell_type": "code",
   "execution_count": 5,
   "metadata": {},
   "outputs": [
    {
     "ename": "ZeroDivisionError",
     "evalue": "division by zero",
     "output_type": "error",
     "traceback": [
      "\u001b[0;31m---------------------------------------------------------------------------\u001b[0m",
      "\u001b[0;31mZeroDivisionError\u001b[0m                         Traceback (most recent call last)",
      "\u001b[0;32m<ipython-input-5-b20f65b8fa95>\u001b[0m in \u001b[0;36m<module>\u001b[0;34m\u001b[0m\n\u001b[1;32m      8\u001b[0m \u001b[0;31m## We will get an error because of a division by 0\u001b[0m\u001b[0;34m\u001b[0m\u001b[0;34m\u001b[0m\u001b[0;34m\u001b[0m\u001b[0m\n\u001b[1;32m      9\u001b[0m \u001b[0;34m\u001b[0m\u001b[0m\n\u001b[0;32m---> 10\u001b[0;31m \u001b[0mprint\u001b[0m\u001b[0;34m(\u001b[0m\u001b[0mget_stats\u001b[0m\u001b[0;34m(\u001b[0m\u001b[0mtest_grades\u001b[0m\u001b[0;34m)\u001b[0m\u001b[0;34m)\u001b[0m\u001b[0;34m\u001b[0m\u001b[0;34m\u001b[0m\u001b[0m\n\u001b[0m",
      "\u001b[0;32m<ipython-input-4-16e3d0e5753d>\u001b[0m in \u001b[0;36mget_stats\u001b[0;34m(class_list)\u001b[0m\n\u001b[1;32m     18\u001b[0m     \u001b[0;32mfor\u001b[0m \u001b[0melement\u001b[0m \u001b[0;32min\u001b[0m \u001b[0mclass_list\u001b[0m\u001b[0;34m:\u001b[0m\u001b[0;34m\u001b[0m\u001b[0;34m\u001b[0m\u001b[0m\n\u001b[1;32m     19\u001b[0m \u001b[0;34m\u001b[0m\u001b[0m\n\u001b[0;32m---> 20\u001b[0;31m         \u001b[0mnew_stats\u001b[0m\u001b[0;34m.\u001b[0m\u001b[0mappend\u001b[0m\u001b[0;34m(\u001b[0m\u001b[0;34m[\u001b[0m\u001b[0melement\u001b[0m\u001b[0;34m[\u001b[0m\u001b[0;36m0\u001b[0m\u001b[0;34m]\u001b[0m\u001b[0;34m,\u001b[0m \u001b[0melement\u001b[0m\u001b[0;34m[\u001b[0m\u001b[0;36m1\u001b[0m\u001b[0;34m]\u001b[0m\u001b[0;34m,\u001b[0m \u001b[0mavg\u001b[0m\u001b[0;34m(\u001b[0m\u001b[0melement\u001b[0m\u001b[0;34m[\u001b[0m\u001b[0;36m1\u001b[0m\u001b[0;34m]\u001b[0m\u001b[0;34m)\u001b[0m\u001b[0;34m]\u001b[0m\u001b[0;34m)\u001b[0m\u001b[0;34m\u001b[0m\u001b[0;34m\u001b[0m\u001b[0m\n\u001b[0m\u001b[1;32m     21\u001b[0m \u001b[0;34m\u001b[0m\u001b[0m\n\u001b[1;32m     22\u001b[0m     \u001b[0;32mreturn\u001b[0m \u001b[0mnew_stats\u001b[0m\u001b[0;34m\u001b[0m\u001b[0;34m\u001b[0m\u001b[0m\n",
      "\u001b[0;32m<ipython-input-4-16e3d0e5753d>\u001b[0m in \u001b[0;36mavg\u001b[0;34m(grades)\u001b[0m\n\u001b[1;32m     24\u001b[0m \u001b[0;32mdef\u001b[0m \u001b[0mavg\u001b[0m\u001b[0;34m(\u001b[0m\u001b[0mgrades\u001b[0m\u001b[0;34m)\u001b[0m\u001b[0;34m:\u001b[0m\u001b[0;34m\u001b[0m\u001b[0;34m\u001b[0m\u001b[0m\n\u001b[1;32m     25\u001b[0m \u001b[0;34m\u001b[0m\u001b[0m\n\u001b[0;32m---> 26\u001b[0;31m     \u001b[0;32mreturn\u001b[0m \u001b[0msum\u001b[0m\u001b[0;34m(\u001b[0m\u001b[0mgrades\u001b[0m\u001b[0;34m)\u001b[0m\u001b[0;34m/\u001b[0m\u001b[0mlen\u001b[0m\u001b[0;34m(\u001b[0m\u001b[0mgrades\u001b[0m\u001b[0;34m)\u001b[0m\u001b[0;34m\u001b[0m\u001b[0;34m\u001b[0m\u001b[0m\n\u001b[0m\u001b[1;32m     27\u001b[0m \u001b[0;34m\u001b[0m\u001b[0m\n\u001b[1;32m     28\u001b[0m \u001b[0;34m\u001b[0m\u001b[0m\n",
      "\u001b[0;31mZeroDivisionError\u001b[0m: division by zero"
     ]
    }
   ],
   "source": [
    "## But what about if we have the following list as input\n",
    "\n",
    "test_grades= [[['peter', 'parker'], [10.0, 5.0, 85.0]],\n",
    "             [['bruce', 'wayne'], [10.0, 8.0, 74.0]],\n",
    "             [['captain', 'america'], [8.0,10.0,96.0]],\n",
    "             [['deadpool'], []]]\n",
    "\n",
    "## We will get an error because of a division by 0\n",
    "\n",
    "print(get_stats(test_grades))"
   ]
  },
  {
   "cell_type": "code",
   "execution_count": 6,
   "metadata": {},
   "outputs": [
    {
     "name": "stdout",
     "output_type": "stream",
     "text": [
      "warning: no grades data\n",
      "[[['peter', 'parker'], [10.0, 5.0, 85.0], 33.333333333333336], [['bruce', 'wayne'], [10.0, 8.0, 74.0], 30.666666666666668], [['captain', 'america'], [8.0, 10.0, 96.0], 38.0], [['deadpool'], [], None]]\n"
     ]
    }
   ],
   "source": [
    "## Option 1: We can notify that something went wrong with a message\n",
    "\n",
    "def avg(grades):\n",
    "    \n",
    "    try:\n",
    "        \n",
    "         return sum(grades)/len(grades)\n",
    "    \n",
    "    except ZeroDivisionError:\n",
    "        \n",
    "         print('warning: no grades data')\n",
    "            \n",
    "## Try again, now is going to be clear that the error will be flagged and the output will specify None \n",
    "## where the error happened            \n",
    "            \n",
    "print(get_stats(test_grades))"
   ]
  },
  {
   "cell_type": "code",
   "execution_count": 7,
   "metadata": {},
   "outputs": [
    {
     "name": "stdout",
     "output_type": "stream",
     "text": [
      "warning: no grades data\n",
      "[[['peter', 'parker'], [10.0, 5.0, 85.0], 33.333333333333336], [['bruce', 'wayne'], [10.0, 8.0, 74.0], 30.666666666666668], [['captain', 'america'], [8.0, 10.0, 96.0], 38.0], [['deadpool'], [], 0.0]]\n"
     ]
    }
   ],
   "source": [
    "## Option 2: Change the policy\n",
    "\n",
    "def avg(grades):\n",
    "    \n",
    "    try:\n",
    "        \n",
    "        return sum(grades)/len(grades)\n",
    "    \n",
    "    except ZeroDivisionError:\n",
    "        \n",
    "        print('warning: no grades data')\n",
    "        \n",
    "        ## It will return the value 0 where ZeroDivisionError is found\n",
    "        return 0.0\n",
    "    \n",
    "print(get_stats(test_grades))"
   ]
  },
  {
   "cell_type": "markdown",
   "metadata": {},
   "source": [
    "Another way to insure that the program works correctly is Defensive Programming. For this, we can use Assertions."
   ]
  },
  {
   "cell_type": "code",
   "execution_count": 8,
   "metadata": {},
   "outputs": [],
   "source": [
    "## Example\n",
    "\n",
    "def avg(grades):\n",
    "    \n",
    "    \"\"\"raises an AssertionErrorif it is given an empty list for grades,\n",
    "    otherwise runs ok\"\"\"\n",
    "    \n",
    "    assert len(grades) != 0, 'warning no grades data'\n",
    "    \n",
    "    return sum(grades)/len(grades)"
   ]
  },
  {
   "cell_type": "code",
   "execution_count": 9,
   "metadata": {},
   "outputs": [
    {
     "ename": "AssertionError",
     "evalue": "no grades data",
     "output_type": "error",
     "traceback": [
      "\u001b[0;31m---------------------------------------------------------------------------\u001b[0m",
      "\u001b[0;31mAssertionError\u001b[0m                            Traceback (most recent call last)",
      "\u001b[0;32m<ipython-input-9-3081412fba04>\u001b[0m in \u001b[0;36m<module>\u001b[0;34m\u001b[0m\n\u001b[0;32m----> 1\u001b[0;31m \u001b[0mprint\u001b[0m\u001b[0;34m(\u001b[0m\u001b[0mget_stats\u001b[0m\u001b[0;34m(\u001b[0m\u001b[0mtest_grades\u001b[0m\u001b[0;34m)\u001b[0m\u001b[0;34m)\u001b[0m\u001b[0;34m\u001b[0m\u001b[0;34m\u001b[0m\u001b[0m\n\u001b[0m",
      "\u001b[0;32m<ipython-input-4-16e3d0e5753d>\u001b[0m in \u001b[0;36mget_stats\u001b[0;34m(class_list)\u001b[0m\n\u001b[1;32m     18\u001b[0m     \u001b[0;32mfor\u001b[0m \u001b[0melement\u001b[0m \u001b[0;32min\u001b[0m \u001b[0mclass_list\u001b[0m\u001b[0;34m:\u001b[0m\u001b[0;34m\u001b[0m\u001b[0;34m\u001b[0m\u001b[0m\n\u001b[1;32m     19\u001b[0m \u001b[0;34m\u001b[0m\u001b[0m\n\u001b[0;32m---> 20\u001b[0;31m         \u001b[0mnew_stats\u001b[0m\u001b[0;34m.\u001b[0m\u001b[0mappend\u001b[0m\u001b[0;34m(\u001b[0m\u001b[0;34m[\u001b[0m\u001b[0melement\u001b[0m\u001b[0;34m[\u001b[0m\u001b[0;36m0\u001b[0m\u001b[0;34m]\u001b[0m\u001b[0;34m,\u001b[0m \u001b[0melement\u001b[0m\u001b[0;34m[\u001b[0m\u001b[0;36m1\u001b[0m\u001b[0;34m]\u001b[0m\u001b[0;34m,\u001b[0m \u001b[0mavg\u001b[0m\u001b[0;34m(\u001b[0m\u001b[0melement\u001b[0m\u001b[0;34m[\u001b[0m\u001b[0;36m1\u001b[0m\u001b[0;34m]\u001b[0m\u001b[0;34m)\u001b[0m\u001b[0;34m]\u001b[0m\u001b[0;34m)\u001b[0m\u001b[0;34m\u001b[0m\u001b[0;34m\u001b[0m\u001b[0m\n\u001b[0m\u001b[1;32m     21\u001b[0m \u001b[0;34m\u001b[0m\u001b[0m\n\u001b[1;32m     22\u001b[0m     \u001b[0;32mreturn\u001b[0m \u001b[0mnew_stats\u001b[0m\u001b[0;34m\u001b[0m\u001b[0;34m\u001b[0m\u001b[0m\n",
      "\u001b[0;32m<ipython-input-8-bec420116644>\u001b[0m in \u001b[0;36mavg\u001b[0;34m(grades)\u001b[0m\n\u001b[1;32m      3\u001b[0m \u001b[0;32mdef\u001b[0m \u001b[0mavg\u001b[0m\u001b[0;34m(\u001b[0m\u001b[0mgrades\u001b[0m\u001b[0;34m)\u001b[0m\u001b[0;34m:\u001b[0m\u001b[0;34m\u001b[0m\u001b[0;34m\u001b[0m\u001b[0m\n\u001b[1;32m      4\u001b[0m \u001b[0;34m\u001b[0m\u001b[0m\n\u001b[0;32m----> 5\u001b[0;31m     \u001b[0;32massert\u001b[0m \u001b[0mlen\u001b[0m\u001b[0;34m(\u001b[0m\u001b[0mgrades\u001b[0m\u001b[0;34m)\u001b[0m \u001b[0;34m!=\u001b[0m \u001b[0;36m0\u001b[0m\u001b[0;34m,\u001b[0m \u001b[0;34m'no grades data'\u001b[0m\u001b[0;34m\u001b[0m\u001b[0;34m\u001b[0m\u001b[0m\n\u001b[0m\u001b[1;32m      6\u001b[0m     \u001b[0;32mreturn\u001b[0m \u001b[0msum\u001b[0m\u001b[0;34m(\u001b[0m\u001b[0mgrades\u001b[0m\u001b[0;34m)\u001b[0m\u001b[0;34m/\u001b[0m\u001b[0mlen\u001b[0m\u001b[0;34m(\u001b[0m\u001b[0mgrades\u001b[0m\u001b[0;34m)\u001b[0m\u001b[0;34m\u001b[0m\u001b[0;34m\u001b[0m\u001b[0m\n",
      "\u001b[0;31mAssertionError\u001b[0m: no grades data"
     ]
    }
   ],
   "source": [
    "print(get_stats(test_grades))"
   ]
  },
  {
   "cell_type": "markdown",
   "metadata": {},
   "source": [
    "## Some examples of exceptions "
   ]
  },
  {
   "cell_type": "code",
   "execution_count": 35,
   "metadata": {},
   "outputs": [
    {
     "name": "stdout",
     "output_type": "stream",
     "text": [
      "i = 0\n",
      "j = 3\n",
      "L[i] = 1\n",
      "L[i] = 4 = 4 L[j]\n",
      "L[j]= 1\n",
      "i = 1\n",
      "j = 2\n",
      "L[i] = 2\n",
      "L[i] = 3 = 3 L[j]\n",
      "L[j]= 2\n",
      "[4, 3, 2, 1]\n"
     ]
    }
   ],
   "source": [
    "########################################\n",
    "### EXAMPLE: Buggy code to reverse a list\n",
    "### Try to debug it! (fixes needed are explained below)\n",
    "########################################\n",
    "##def rev_list_buggy(L):\n",
    "##    \"\"\"\n",
    "##    input: L, a list\n",
    "##    Modifies L such that its elements are in reverse order\n",
    "##    returns: nothing\n",
    "##    \"\"\"\n",
    "##    for i in range(len(L)):\n",
    "##        j = len(L) - i\n",
    "##        L[i] = temp\n",
    "##        L[i] = L[j]\n",
    "##        L[j] = L[i]\n",
    "#\n",
    "## FIXES: --------------------------\n",
    "## temp unknown\n",
    "## list index out of range -> sub 1 to j\n",
    "## get same list back -> iterate only over half\n",
    "## --------------------------\n",
    "def rev_list(L):\n",
    "    \"\"\"\n",
    "    input: L, a list\n",
    "    Modifies L such that its elements are in reverse order\n",
    "    returns: nothing\n",
    "    \"\"\"\n",
    "    for i in range(len(L)//2):\n",
    "        j = len(L) - i - 1\n",
    "        \n",
    "        print(\"i =\", i)\n",
    "        \n",
    "        print(\"j =\",j )\n",
    "        \n",
    "        temp = L[i]\n",
    "        \n",
    "        print(\"L[i] = \",L[i])\n",
    "        \n",
    "        L[i] = L[j]\n",
    "        \n",
    "        print (\"L[i] =\",L[i], \"=\" ,L[j],\"L[j]\")\n",
    "        \n",
    "        L[j] = temp\n",
    "        \n",
    "        print(\"L[j]=\",L[j])\n",
    "        \n",
    "L = [1,2,3,4]\n",
    "rev_list(L)\n",
    "print(L)"
   ]
  },
  {
   "cell_type": "code",
   "execution_count": 26,
   "metadata": {},
   "outputs": [
    {
     "name": "stdout",
     "output_type": "stream",
     "text": [
      "3\n",
      "[2]\n",
      "j iteration: 3 p iteration: 2\n",
      "j is prime: 3\n",
      "4\n",
      "[2, 3]\n",
      "j iteration: 4 p iteration: 2\n",
      "j: 4 p: 2 j%p: 0\n",
      "True\n",
      "j iteration: 4 p iteration: 3\n",
      "5\n",
      "[2, 3]\n",
      "j iteration: 5 p iteration: 2\n",
      "j iteration: 5 p iteration: 3\n",
      "j is prime: 5\n",
      "6\n",
      "[2, 3, 5]\n",
      "j iteration: 6 p iteration: 2\n",
      "j: 6 p: 2 j%p: 0\n",
      "True\n",
      "j iteration: 6 p iteration: 3\n",
      "j: 6 p: 3 j%p: 0\n",
      "True\n",
      "j iteration: 6 p iteration: 5\n",
      "7\n",
      "[2, 3, 5]\n",
      "j iteration: 7 p iteration: 2\n",
      "j iteration: 7 p iteration: 3\n",
      "j iteration: 7 p iteration: 5\n",
      "j is prime: 7\n",
      "8\n",
      "[2, 3, 5, 7]\n",
      "j iteration: 8 p iteration: 2\n",
      "j: 8 p: 2 j%p: 0\n",
      "True\n",
      "j iteration: 8 p iteration: 3\n",
      "j iteration: 8 p iteration: 5\n",
      "j iteration: 8 p iteration: 7\n"
     ]
    }
   ],
   "source": [
    "########################################\n",
    "### EXAMPLE: Buggy code to get a list of primes\n",
    "### Try to debug it! (fixes needed are explained below)\n",
    "########################################\n",
    "##def primes_list_buggy(n):\n",
    "##    \"\"\"\n",
    "##    input: n an integer > 1\n",
    "##    returns: list of all the primes up to and including n\n",
    "##    \"\"\"\n",
    "##    # initialize primes list\n",
    "##    if i == 2:\n",
    "##        primes.append(2)\n",
    "##    # go through each elem of primes list\n",
    "##    for i in range(len(primes)):\n",
    "##        # go through each of 2...n\n",
    "##        for j in range(len(n)):\n",
    "##            # check if not divisible by elem of list\n",
    "##            if i%j != 0:\n",
    "##                primes.append(i)\n",
    "#\n",
    "#\n",
    "## FIXES: --------------------------\n",
    "## = invalid syntax, variable i unknown, variable primes unknown\n",
    "## can't apply 'len' to an int\n",
    "## division by zero -> iterate through elems not indices\n",
    "##                  -> iterate from 2 not 0\n",
    "## forgot to return \n",
    "## primes is empty list for n > 2\n",
    "## n = 3 goes through loop once -> range to n+1 not n\n",
    "## infinite loop -> append j not i\n",
    "##               -> list is getting modified as iterating over it!\n",
    "##               -> switch loops around\n",
    "## n = 4 adds 4 -> need way to stop going once found a divisible num\n",
    "##              -> use a flag\n",
    "## --------------------------\n",
    "def primes_list(n):\n",
    "    \"\"\"\n",
    "    input: n an integer > 1\n",
    "    returns: list of all the primes up to and including n\n",
    "    \"\"\"\n",
    "    # initialize primes list\n",
    "    primes = [2]\n",
    "    # go through each of 3...n\n",
    "    for j in range(3,n+1):\n",
    "        \n",
    "        print (j)\n",
    "        \n",
    "        print (primes)\n",
    "        \n",
    "        is_div = False\n",
    "        \n",
    "        # go through each elem of primes list\n",
    "         \n",
    "        \n",
    "        for p in primes:\n",
    "            \n",
    "            print (\"j iteration:\",j,\"p iteration:\",p)\n",
    "            \n",
    "            \n",
    "            # only if the residuals after dividing j by all previous elements in list \n",
    "            # the number is not prime.\n",
    "            \n",
    "            if j%p == 0:\n",
    "                \n",
    "                print(\"j:\",j,\"p:\",p,\"j%p:\",j%p)\n",
    "                \n",
    "                is_div = True\n",
    "                \n",
    "                print (is_div)\n",
    "                \n",
    "        if not is_div:\n",
    "            \n",
    "            print(\"j is prime:\",j)\n",
    "            \n",
    "            primes.append(j)\n",
    "    return primes\n",
    "\n",
    "#print(primes_list(2) )               \n",
    "primes = primes_list(8)              \n"
   ]
  },
  {
   "cell_type": "code",
   "execution_count": 27,
   "metadata": {},
   "outputs": [
    {
     "name": "stdout",
     "output_type": "stream",
     "text": [
      "success\n",
      "executed no matter what!\n",
      "success\n",
      "executed no matter what!\n",
      "[0.5, 1.0]\n"
     ]
    }
   ],
   "source": [
    "# EXAMPLE: Raising your own exceptions\n",
    "######################################\n",
    "def get_ratios(L1, L2):\n",
    "    \"\"\" Assumes: L1 and L2 are lists of equal length of numbers\n",
    "        Returns: a list containing L1[i]/L2[i] \"\"\"\n",
    "    ratios = []\n",
    "    for index in range(len(L1)):\n",
    "        try:\n",
    "            ratios.append(L1[index]/L2[index])\n",
    "        except ZeroDivisionError:\n",
    "            ratios.append(float('nan')) #nan = Not a Number\n",
    "        except:\n",
    "            raise ValueError('get_ratios called with bad arg')\n",
    "        else:\n",
    "            print(\"success\")\n",
    "        finally:\n",
    "            print(\"executed no matter what!\")\n",
    "    return ratios\n",
    "    \n",
    "print(get_ratios([1, 4], [2, 4]))"
   ]
  },
  {
   "cell_type": "code",
   "execution_count": 29,
   "metadata": {},
   "outputs": [
    {
     "name": "stdout",
     "output_type": "stream",
     "text": [
      "executed no matter what!\n",
      "success\n",
      "executed no matter what!\n",
      "[nan, 1.0]\n"
     ]
    }
   ],
   "source": [
    "print(get_ratios([3, 4], [0, 4]))"
   ]
  },
  {
   "cell_type": "code",
   "execution_count": 30,
   "metadata": {},
   "outputs": [
    {
     "name": "stdout",
     "output_type": "stream",
     "text": [
      "executed no matter what!\n"
     ]
    },
    {
     "ename": "ValueError",
     "evalue": "get_ratios called with bad arg",
     "output_type": "error",
     "traceback": [
      "\u001b[0;31m---------------------------------------------------------------------------\u001b[0m",
      "\u001b[0;31mTypeError\u001b[0m                                 Traceback (most recent call last)",
      "\u001b[0;32m<ipython-input-27-fb7df6c69927>\u001b[0m in \u001b[0;36mget_ratios\u001b[0;34m(L1, L2)\u001b[0m\n\u001b[1;32m      8\u001b[0m         \u001b[0;32mtry\u001b[0m\u001b[0;34m:\u001b[0m\u001b[0;34m\u001b[0m\u001b[0;34m\u001b[0m\u001b[0m\n\u001b[0;32m----> 9\u001b[0;31m             \u001b[0mratios\u001b[0m\u001b[0;34m.\u001b[0m\u001b[0mappend\u001b[0m\u001b[0;34m(\u001b[0m\u001b[0mL1\u001b[0m\u001b[0;34m[\u001b[0m\u001b[0mindex\u001b[0m\u001b[0;34m]\u001b[0m\u001b[0;34m/\u001b[0m\u001b[0mL2\u001b[0m\u001b[0;34m[\u001b[0m\u001b[0mindex\u001b[0m\u001b[0;34m]\u001b[0m\u001b[0;34m)\u001b[0m\u001b[0;34m\u001b[0m\u001b[0;34m\u001b[0m\u001b[0m\n\u001b[0m\u001b[1;32m     10\u001b[0m         \u001b[0;32mexcept\u001b[0m \u001b[0mZeroDivisionError\u001b[0m\u001b[0;34m:\u001b[0m\u001b[0;34m\u001b[0m\u001b[0;34m\u001b[0m\u001b[0m\n",
      "\u001b[0;31mTypeError\u001b[0m: unsupported operand type(s) for /: 'int' and 'str'",
      "\nDuring handling of the above exception, another exception occurred:\n",
      "\u001b[0;31mValueError\u001b[0m                                Traceback (most recent call last)",
      "\u001b[0;32m<ipython-input-30-2ba7afd7f967>\u001b[0m in \u001b[0;36m<module>\u001b[0;34m\u001b[0m\n\u001b[0;32m----> 1\u001b[0;31m \u001b[0mprint\u001b[0m\u001b[0;34m(\u001b[0m\u001b[0mget_ratios\u001b[0m\u001b[0;34m(\u001b[0m\u001b[0;34m[\u001b[0m\u001b[0;36m3\u001b[0m\u001b[0;34m,\u001b[0m \u001b[0;36m4\u001b[0m\u001b[0;34m]\u001b[0m\u001b[0;34m,\u001b[0m \u001b[0;34m[\u001b[0m\u001b[0;34m\"a\"\u001b[0m\u001b[0;34m,\u001b[0m \u001b[0;36m4\u001b[0m\u001b[0;34m]\u001b[0m\u001b[0;34m)\u001b[0m\u001b[0;34m)\u001b[0m\u001b[0;34m\u001b[0m\u001b[0;34m\u001b[0m\u001b[0m\n\u001b[0m",
      "\u001b[0;32m<ipython-input-27-fb7df6c69927>\u001b[0m in \u001b[0;36mget_ratios\u001b[0;34m(L1, L2)\u001b[0m\n\u001b[1;32m     11\u001b[0m             \u001b[0mratios\u001b[0m\u001b[0;34m.\u001b[0m\u001b[0mappend\u001b[0m\u001b[0;34m(\u001b[0m\u001b[0mfloat\u001b[0m\u001b[0;34m(\u001b[0m\u001b[0;34m'nan'\u001b[0m\u001b[0;34m)\u001b[0m\u001b[0;34m)\u001b[0m \u001b[0;31m#nan = Not a Number\u001b[0m\u001b[0;34m\u001b[0m\u001b[0;34m\u001b[0m\u001b[0m\n\u001b[1;32m     12\u001b[0m         \u001b[0;32mexcept\u001b[0m\u001b[0;34m:\u001b[0m\u001b[0;34m\u001b[0m\u001b[0;34m\u001b[0m\u001b[0m\n\u001b[0;32m---> 13\u001b[0;31m             \u001b[0;32mraise\u001b[0m \u001b[0mValueError\u001b[0m\u001b[0;34m(\u001b[0m\u001b[0;34m'get_ratios called with bad arg'\u001b[0m\u001b[0;34m)\u001b[0m\u001b[0;34m\u001b[0m\u001b[0;34m\u001b[0m\u001b[0m\n\u001b[0m\u001b[1;32m     14\u001b[0m         \u001b[0;32melse\u001b[0m\u001b[0;34m:\u001b[0m\u001b[0;34m\u001b[0m\u001b[0;34m\u001b[0m\u001b[0m\n\u001b[1;32m     15\u001b[0m             \u001b[0mprint\u001b[0m\u001b[0;34m(\u001b[0m\u001b[0;34m\"success\"\u001b[0m\u001b[0;34m)\u001b[0m\u001b[0;34m\u001b[0m\u001b[0;34m\u001b[0m\u001b[0m\n",
      "\u001b[0;31mValueError\u001b[0m: get_ratios called with bad arg"
     ]
    }
   ],
   "source": [
    "print(get_ratios([3, 4], [\"a\", 4]))"
   ]
  }
 ],
 "metadata": {
  "kernelspec": {
   "display_name": "Python 3",
   "language": "python",
   "name": "python3"
  },
  "language_info": {
   "codemirror_mode": {
    "name": "ipython",
    "version": 3
   },
   "file_extension": ".py",
   "mimetype": "text/x-python",
   "name": "python",
   "nbconvert_exporter": "python",
   "pygments_lexer": "ipython3",
   "version": "3.7.4"
  }
 },
 "nbformat": 4,
 "nbformat_minor": 4
}
