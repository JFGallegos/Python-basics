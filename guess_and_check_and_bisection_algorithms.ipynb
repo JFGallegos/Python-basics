{
 "cells": [
  {
   "cell_type": "markdown",
   "metadata": {},
   "source": [
    "## This notebook contains some examples of how to solve a problem approximating the answer by guess-and-check a.k.a exhaustive enumeration technique. At the end of this notebook, the Bisection algorithm is illustrated with two examples."
   ]
  },
  {
   "cell_type": "code",
   "execution_count": 9,
   "metadata": {},
   "outputs": [],
   "source": [
    "import numpy as np"
   ]
  },
  {
   "cell_type": "markdown",
   "metadata": {},
   "source": [
    "In this example we try to verify if a number is a perfect cube finding its root:"
   ]
  },
  {
   "cell_type": "code",
   "execution_count": 10,
   "metadata": {},
   "outputs": [
    {
     "name": "stdin",
     "output_type": "stream",
     "text": [
      "Select a number for which you want to find the cube root 1000\n"
     ]
    },
    {
     "name": "stdout",
     "output_type": "stream",
     "text": [
      "the root of  1000  is  10\n"
     ]
    }
   ],
   "source": [
    "cube = int(input(\"Select a number for which you want to find the cube root\"))\n",
    "\n",
    "\n",
    "for guess in range(cube+1):\n",
    "    \n",
    "    if guess**3 == cube:\n",
    "    \n",
    "        print(\"the root of \", cube, \" is \", guess)\n",
    "        \n",
    "        \n",
    "# Note that loops keeps going even after found the cube root\n",
    "\n"
   ]
  },
  {
   "cell_type": "markdown",
   "metadata": {},
   "source": [
    "In this example we refine the loop so it will be able to verify if the number for which we are looking its root is a perfect cube:"
   ]
  },
  {
   "cell_type": "code",
   "execution_count": 11,
   "metadata": {},
   "outputs": [
    {
     "name": "stdin",
     "output_type": "stream",
     "text": [
      "Select a number for which you want to find the cube root 1000\n"
     ]
    },
    {
     "name": "stdout",
     "output_type": "stream",
     "text": [
      "Cube root of 1000 is 10\n"
     ]
    }
   ],
   "source": [
    "cube = int(input(\"Select a number for which you want to find the cube root\"))\n",
    "\n",
    "for guess in range(abs(cube)+1):\n",
    "    # passed all potential cube roots\n",
    "    if guess**3 >= abs(cube):\n",
    "        # no need to keep searching\n",
    "        break\n",
    "if guess**3 != abs(cube):\n",
    "    print(cube, 'is not a perfect cube')\n",
    "else:\n",
    "    if cube < 0:\n",
    "        guess = -guess\n",
    "    print('Cube root of ' + str(cube) + ' is ' + str(guess))"
   ]
  },
  {
   "cell_type": "markdown",
   "metadata": {},
   "source": [
    "Now let's try to approximate the cube root using a different approach. \n",
    "\n",
    "First, we start with a guess and increment by some small value.\n",
    "\n",
    "Second, we fix a check rule so when this rule is attained we stop guessing.\n",
    "\n",
    "In this case, we will keep guessing till we reach the following condition:\n",
    "\n",
    "$$ |guess^3 - cube| >= epsilon $$"
   ]
  },
  {
   "cell_type": "code",
   "execution_count": 12,
   "metadata": {},
   "outputs": [
    {
     "name": "stdin",
     "output_type": "stream",
     "text": [
      "Select a number for which you want to find the cube root 1000\n"
     ]
    },
    {
     "name": "stdout",
     "output_type": "stream",
     "text": [
      "num_guesses = 100000\n",
      "9.999999999990033 is close to the cube root of 1000\n"
     ]
    }
   ],
   "source": [
    "## Set the cube that we are looking for\n",
    "\n",
    "cube = int(input(\"Select a number for which you want to find the cube root\"))\n",
    "\n",
    "## Set epsilon for stopping rule\n",
    "\n",
    "epsilon = .01\n",
    "\n",
    "## We start the counter for the guess\n",
    "\n",
    "guess = 0\n",
    "\n",
    "## We set the value for which we are going to increase the guess\n",
    "\n",
    "increment = .0001\n",
    "\n",
    "## We start the counter for the number of iterations\n",
    "\n",
    "num_guesses = 0\n",
    "\n",
    "\n",
    "## We start the while loop\n",
    "\n",
    "while abs(guess**3 - cube) >= epsilon and guess <= cube:\n",
    "    \n",
    "    guess += .0001\n",
    "    num_guesses += 1\n",
    "    \n",
    "print('num_guesses =', num_guesses)\n",
    "\n",
    "if abs(guess**3 - cube) >= epsilon:\n",
    "    \n",
    "    print('Failed on cube root of', cube, \"with these parameters.\")\n",
    "    \n",
    "else:\n",
    "    \n",
    "    print(guess, 'is close to the cube root of', cube)\n",
    "\n",
    "\n",
    "\n"
   ]
  },
  {
   "cell_type": "markdown",
   "metadata": {},
   "source": [
    "## Bisecton Search\n"
   ]
  },
  {
   "cell_type": "markdown",
   "metadata": {},
   "source": [
    "\n",
    "Let's try to find a selected random integer X, which lies between 0 and 100. This could be seen as a game where player A selcts randomly a number X between 0 and 100 and player B try to guess this number till it finds the answer.\n",
    "Of corse player B will use bisection search to effitiently find the answer.\n",
    "\n",
    "This program illustrates this interaction:"
   ]
  },
  {
   "cell_type": "code",
   "execution_count": 13,
   "metadata": {},
   "outputs": [
    {
     "name": "stdin",
     "output_type": "stream",
     "text": [
      "Player A select a number between 0 and 100 80\n",
      "Player B starts with a random guess  10\n"
     ]
    },
    {
     "name": "stdout",
     "output_type": "stream",
     "text": [
      "player B has guessed a new number: 55\n",
      "player B has guessed a new number: 78\n",
      "player B has guessed a new number: 89\n",
      "player B has guessed a new number: 84\n",
      "player B has guessed a new number: 81\n",
      "player B has guessed a new number: 80\n",
      "Player B has guessed the answer which is equal to: 80 in 6 guesses\n"
     ]
    }
   ],
   "source": [
    "# First randomly select the number \n",
    "\n",
    "X = int(input(\"Player A select a number between 0 and 100\"))\n",
    "\n",
    "## We first star with a random guess\n",
    "\n",
    "guess = int(input(\"Player B starts with a random guess \"))\n",
    "\n",
    "## The first limit is equal to 100\n",
    "\n",
    "high = 100\n",
    "\n",
    "## Start counter of tries \n",
    "\n",
    "num_guesses = 0\n",
    "\n",
    "## Now we can start the loop with the guess \n",
    "\n",
    "while guess != X:\n",
    "    \n",
    "    ## If guess is larger than X, we can forget the upper part\n",
    "\n",
    "    if guess > X:\n",
    "\n",
    "        high = guess\n",
    "\n",
    "    else:\n",
    "        \n",
    "    ## If guess is smaller than X, we can forget the lower part\n",
    "\n",
    "        low = guess\n",
    "    \n",
    "## Set new guess\n",
    "\n",
    "    guess = int(round((low + high)/2))\n",
    "    \n",
    "    print (\"player B has guessed a new number:\",guess)\n",
    "\n",
    "    num_guesses += 1\n",
    "\n",
    "print(\"Player B has guessed the answer which is equal to:\",guess, \"in\",num_guesses, \"guesses\")\n",
    "    \n",
    "    "
   ]
  },
  {
   "cell_type": "markdown",
   "metadata": {},
   "source": [
    "In fact we can compute the theorical convergence rate to the exact number X with the formula:\n",
    "\n",
    "$$ \\frac{N}{2^K} = 1 $$\\\n",
    "$$ log_2 N = k log_2 2 $$\\\n",
    "$$ log_2 N = k $$\n",
    "\n",
    "Where:\n",
    "\n",
    "N = space N \\\n",
    "k = number of guesses\n",
    "\n",
    "Which in the case of the example above, is equal to:\n",
    "\n",
    "$$ log_2 100 = 6.6439 $$\n",
    "\n",
    "Thus, we will converge to the answer in not more than 7 guesses."
   ]
  },
  {
   "cell_type": "markdown",
   "metadata": {},
   "source": [
    "Note that bisection search works when value of function varies monotonically with input"
   ]
  },
  {
   "cell_type": "markdown",
   "metadata": {},
   "source": [
    "Now let's use bisection search to find a perfect cube root of a cube\n"
   ]
  },
  {
   "cell_type": "code",
   "execution_count": 14,
   "metadata": {},
   "outputs": [
    {
     "name": "stdin",
     "output_type": "stream",
     "text": [
      "Select a number for which you want to find the cube root 1000\n"
     ]
    },
    {
     "name": "stdout",
     "output_type": "stream",
     "text": [
      "num_guesses = 21\n",
      "9.999990463256836 is close to the cube root of 1000\n"
     ]
    }
   ],
   "source": [
    "## Set the cube that we are looking for\n",
    "\n",
    "cube = int(input(\"Select a number for which you want to find the cube root\"))\n",
    "\n",
    "## Set epsilon for stopping rule\n",
    "\n",
    "epsilon = .01\n",
    "\n",
    "## We start the counter for the number of iterations\n",
    "\n",
    "num_guesses = 0\n",
    "\n",
    "## We set the lower and upper bounds, note the upper bound is the cube and lower bound is 0\n",
    "\n",
    "low = 0\n",
    "\n",
    "high = cube\n",
    "\n",
    "## We start the guessings\n",
    "\n",
    "guess = (low + high)/2\n",
    "\n",
    "while abs(guess**3-cube) >= epsilon:\n",
    "    \n",
    "    if guess**3 < cube:\n",
    "        \n",
    "        ## look only upper half search space\n",
    "        \n",
    "        low = guess\n",
    "        \n",
    "    else:\n",
    "                \n",
    "        high = guess\n",
    "        \n",
    "    ## compute next guess\n",
    "    \n",
    "    guess = (high + low)/2\n",
    "    \n",
    "    num_guesses += 1\n",
    "    \n",
    "print('num_guesses =', num_guesses)\n",
    "\n",
    "print(guess, 'is close to the cube root of', cube)\n",
    "    \n",
    "    \n",
    "\n",
    "\n"
   ]
  },
  {
   "cell_type": "code",
   "execution_count": null,
   "metadata": {},
   "outputs": [],
   "source": []
  }
 ],
 "metadata": {
  "kernelspec": {
   "display_name": "Python 3",
   "language": "python",
   "name": "python3"
  },
  "language_info": {
   "codemirror_mode": {
    "name": "ipython",
    "version": 3
   },
   "file_extension": ".py",
   "mimetype": "text/x-python",
   "name": "python",
   "nbconvert_exporter": "python",
   "pygments_lexer": "ipython3",
   "version": "3.7.4"
  }
 },
 "nbformat": 4,
 "nbformat_minor": 4
}
