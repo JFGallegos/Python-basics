{
 "cells": [
  {
   "cell_type": "markdown",
   "metadata": {},
   "source": [
    "This is a small example of how to fomulate an algorithm\n"
   ]
  },
  {
   "cell_type": "code",
   "execution_count": 44,
   "metadata": {},
   "outputs": [],
   "source": [
    "import numpy as np"
   ]
  },
  {
   "cell_type": "markdown",
   "metadata": {},
   "source": [
    "Let's expemplify a simple algorithm finding the square root of a number x given y such that y*y=x\n",
    "\n",
    "First we start with a guess g.\n",
    "Then if g*g is close enough to x, we stop and thus we have found the answer g. Otherwise, make a new guess.\n",
    "Finally, using the new guess, repeat process until be close enough.\n",
    "\n"
   ]
  },
  {
   "cell_type": "markdown",
   "metadata": {},
   "source": [
    "Let's start with g = 3 and x = 16. in this case the stopping rule will be when $\\frac{x}{g} \\simeq g$"
   ]
  },
  {
   "cell_type": "code",
   "execution_count": 32,
   "metadata": {},
   "outputs": [
    {
     "name": "stdout",
     "output_type": "stream",
     "text": [
      "first try g= 3\n",
      "first g squared= 9\n",
      "x/g= 5.333333333333333\n",
      "second try g = (g+x/g)/2  4.166666666666666\n",
      "second g squared= 17.361111111111107\n",
      "x/g= 3.8400000000000007\n",
      "third try g = (g+x/g)/2  4.003333333333334\n",
      "third g squared= 16.02667777777778\n",
      "x/g= 3.9966694421315565\n"
     ]
    }
   ],
   "source": [
    "x = 16\n",
    "\n",
    "## We start with g = 3\n",
    "\n",
    "g = 3\n",
    "\n",
    "print(\"first try g=\", g)\n",
    "\n",
    "## Square g\n",
    "\n",
    "g_squared = g*g\n",
    "\n",
    "print(\"first g squared=\",g_squared)\n",
    "\n",
    "## Verify if we have found the answer, in this case the value x/g must be equal or near to g\n",
    "\n",
    "print(\"x/g=\",x/g)\n",
    "\n",
    "##Try a new guess:\n",
    "\n",
    "g = (g+x/g)/2\n",
    "\n",
    "print(\"second try g = (g+x/g)/2 \", g)\n",
    "\n",
    "## Try again\n",
    "\n",
    "g_squared = g*g\n",
    "\n",
    "print(\"second g squared=\",g_squared)\n",
    "\n",
    "## Verify if we have found the answer, in this case the value x/g must be equal or near to g\n",
    "\n",
    "print(\"x/g=\",x/g)\n",
    "\n",
    "\n",
    "##Try a new guess:\n",
    "\n",
    "g = (g+x/g)/2\n",
    "\n",
    "print(\"third try g = (g+x/g)/2 \", g)\n",
    "\n",
    "## Try again\n",
    "\n",
    "g_squared = g*g\n",
    "\n",
    "print(\"third g squared=\",g_squared)\n",
    "\n",
    "## Verify if we have found the answer, in this case the value x/g must be equal or near to g\n",
    "\n",
    "print(\"x/g=\",x/g)\n",
    "\n"
   ]
  },
  {
   "cell_type": "code",
   "execution_count": 43,
   "metadata": {},
   "outputs": [
    {
     "data": {
      "text/plain": [
       "1"
      ]
     },
     "execution_count": 43,
     "metadata": {},
     "output_type": "execute_result"
    }
   ],
   "source": [
    " 25 % 2"
   ]
  }
 ],
 "metadata": {
  "kernelspec": {
   "display_name": "Python 3",
   "language": "python",
   "name": "python3"
  },
  "language_info": {
   "codemirror_mode": {
    "name": "ipython",
    "version": 3
   },
   "file_extension": ".py",
   "mimetype": "text/x-python",
   "name": "python",
   "nbconvert_exporter": "python",
   "pygments_lexer": "ipython3",
   "version": "3.7.4"
  }
 },
 "nbformat": 4,
 "nbformat_minor": 4
}
