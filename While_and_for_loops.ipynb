{
 "cells": [
  {
   "cell_type": "markdown",
   "metadata": {},
   "source": [
    "## This is a notebook with examples with a while and for loops."
   ]
  },
  {
   "cell_type": "code",
   "execution_count": 1,
   "metadata": {},
   "outputs": [],
   "source": [
    "import numpy as np"
   ]
  },
  {
   "cell_type": "markdown",
   "metadata": {},
   "source": [
    "Iterate with while loop example.\n",
    "Note that when using a while loop we must initialize the counter before loop and increment inside the loop:  \n"
   ]
  },
  {
   "cell_type": "code",
   "execution_count": 2,
   "metadata": {},
   "outputs": [
    {
     "name": "stdout",
     "output_type": "stream",
     "text": [
      "0\n",
      "1\n",
      "2\n",
      "3\n",
      "4\n"
     ]
    }
   ],
   "source": [
    "## Initialize the counter\n",
    "n = 0\n",
    "\n",
    "## Start the loop\n",
    "while n < 5:\n",
    "    print(n)\n",
    "    n += 1 "
   ]
  },
  {
   "cell_type": "markdown",
   "metadata": {},
   "source": [
    "Shorcut with for loop. Note that we must not need to initialize the counter: "
   ]
  },
  {
   "cell_type": "code",
   "execution_count": 3,
   "metadata": {},
   "outputs": [
    {
     "name": "stdout",
     "output_type": "stream",
     "text": [
      "0\n",
      "1\n",
      "2\n",
      "3\n",
      "4\n"
     ]
    }
   ],
   "source": [
    "for n in range(5):\n",
    "    print(n)"
   ]
  },
  {
   "cell_type": "markdown",
   "metadata": {},
   "source": [
    "Example of for loop using while statement and counter:"
   ]
  },
  {
   "cell_type": "code",
   "execution_count": 4,
   "metadata": {},
   "outputs": [
    {
     "name": "stdout",
     "output_type": "stream",
     "text": [
      "45\n"
     ]
    }
   ],
   "source": [
    "mysum = 0\n",
    "\n",
    "for i in range(0,10,1):\n",
    "    \n",
    "    mysum += i\n",
    "    \n",
    "    if mysum == 5:\n",
    "        \n",
    "        break\n",
    "        \n",
    "        mysum +=1\n",
    "        \n",
    "print(mysum)\n"
   ]
  },
  {
   "cell_type": "markdown",
   "metadata": {},
   "source": [
    "Note that in this example the break condition never happens. If we would have had the following loop with the same condition the program will break in the firstiteration:"
   ]
  },
  {
   "cell_type": "code",
   "execution_count": 5,
   "metadata": {},
   "outputs": [
    {
     "name": "stdout",
     "output_type": "stream",
     "text": [
      "5\n"
     ]
    }
   ],
   "source": [
    "mysum = 0\n",
    "\n",
    "for i in range(5,10,1):\n",
    "    \n",
    "    mysum += i\n",
    "    \n",
    "    if mysum == 5:\n",
    "        \n",
    "        break\n",
    "        \n",
    "        mysum +=1\n",
    "        \n",
    "print(mysum)"
   ]
  },
  {
   "cell_type": "markdown",
   "metadata": {},
   "source": [
    "This is an exmample of a loop over a string:"
   ]
  },
  {
   "cell_type": "code",
   "execution_count": 6,
   "metadata": {},
   "outputs": [
    {
     "name": "stdout",
     "output_type": "stream",
     "text": [
      "there is a c or a g\n",
      "there is a c or a g\n"
     ]
    }
   ],
   "source": [
    "s = \"abcdefgh\"\n",
    "\n",
    "for char in s:\n",
    "    \n",
    "    if char == \"c\" or char == \"g\":\n",
    "    \n",
    "        print(\"there is a c or a g\")"
   ]
  },
  {
   "cell_type": "markdown",
   "metadata": {},
   "source": [
    "Example of for loop with inputs and outputs strings"
   ]
  },
  {
   "cell_type": "code",
   "execution_count": 17,
   "metadata": {},
   "outputs": [
    {
     "name": "stdin",
     "output_type": "stream",
     "text": [
      "Please enter a word Goal\n",
      "Enthusiasm level (1-10):  10\n"
     ]
    },
    {
     "name": "stdout",
     "output_type": "stream",
     "text": [
      "Give me a  G! G\n",
      "Give me an o! o\n",
      "Give me an a! a\n",
      "Give me an l! l\n",
      "Goal !!!\n",
      "Goal !!!\n",
      "Goal !!!\n",
      "Goal !!!\n",
      "Goal !!!\n",
      "Goal !!!\n",
      "Goal !!!\n",
      "Goal !!!\n",
      "Goal !!!\n",
      "Goal !!!\n"
     ]
    }
   ],
   "source": [
    "an_letters = \"aefhilmnorsxAEFHILMNORSX\"\n",
    "\n",
    "word = input(\"Please enter a word\")\n",
    "\n",
    "times = int(input(\"Enthusiasm level (1-10): \"))\n",
    "\n",
    "for char in range(len(word)):\n",
    "    \n",
    "    letter = word[char]\n",
    "    \n",
    "    if letter in an_letters:\n",
    "        print(\"Give me an \" + letter + \"! \" + letter)\n",
    "    else:\n",
    "        print(\"Give me a  \" + letter + \"! \" + letter)\n",
    "\n",
    "for i in range(times):\n",
    "    \n",
    "    print(word,\"!!!\")\n"
   ]
  },
  {
   "cell_type": "markdown",
   "metadata": {},
   "source": [
    "Example of loop inside a loop, in this case we test if the character of the first string is in the second one:"
   ]
  },
  {
   "cell_type": "code",
   "execution_count": 16,
   "metadata": {},
   "outputs": [
    {
     "name": "stdout",
     "output_type": "stream",
     "text": [
      "common letter h\n",
      "common letter s\n"
     ]
    }
   ],
   "source": [
    "s1 = \"what's up\"\n",
    "s2 = \"hello sky\"\n",
    "\n",
    "if len(s1) == len(s2):\n",
    "    \n",
    "    for char1 in s1:\n",
    "        \n",
    "        for char2 in s2:\n",
    "            \n",
    "            if char1 == char2:\n",
    "                \n",
    "                if char1 == \" \":\n",
    "                    \n",
    "                    pass\n",
    "                \n",
    "                else:\n",
    "                \n",
    "                    print (\"common letter\", char1)\n",
    "                \n"
   ]
  },
  {
   "cell_type": "code",
   "execution_count": null,
   "metadata": {},
   "outputs": [],
   "source": []
  }
 ],
 "metadata": {
  "kernelspec": {
   "display_name": "Python 3",
   "language": "python",
   "name": "python3"
  },
  "language_info": {
   "codemirror_mode": {
    "name": "ipython",
    "version": 3
   },
   "file_extension": ".py",
   "mimetype": "text/x-python",
   "name": "python",
   "nbconvert_exporter": "python",
   "pygments_lexer": "ipython3",
   "version": "3.7.4"
  }
 },
 "nbformat": 4,
 "nbformat_minor": 4
}
