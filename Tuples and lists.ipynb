{
 "cells": [
  {
   "cell_type": "markdown",
   "metadata": {},
   "source": [
    "# This notebook contains some examples of Tuples, Lists, Aliasing, Mutability and Cloning"
   ]
  },
  {
   "cell_type": "code",
   "execution_count": null,
   "metadata": {},
   "outputs": [],
   "source": [
    "import numpy as np"
   ]
  },
  {
   "cell_type": "code",
   "execution_count": 9,
   "metadata": {},
   "outputs": [],
   "source": [
    "## Define the quotient and the reminder of a dicition\n",
    "\n",
    "def quotient_and_remainder(x, y):\n",
    "    \n",
    "    \"\"\"\n",
    "    Returns the quotient and remainder of x divided by y\n",
    "    x: dividend\n",
    "    y: divisor\n",
    "    \n",
    "    \"\"\"\n",
    "    \n",
    "    q = x // y\n",
    "    r = x % y\n",
    "    \n",
    "    return (q, r)"
   ]
  },
  {
   "cell_type": "code",
   "execution_count": 10,
   "metadata": {},
   "outputs": [
    {
     "data": {
      "text/plain": [
       "(2, 1)"
      ]
     },
     "execution_count": 10,
     "metadata": {},
     "output_type": "execute_result"
    }
   ],
   "source": [
    "## Exemple\n",
    "\n",
    "quotient_and_remainder(5,2)"
   ]
  },
  {
   "cell_type": "code",
   "execution_count": 17,
   "metadata": {},
   "outputs": [],
   "source": [
    "## Example of how to iterate over tuples\n",
    "\n",
    "def get_data(aTuple):\n",
    "    \"\"\"\n",
    "    aTuple, tuple of tuples (int, string)\n",
    "    Extracts all integers from aTuple and sets \n",
    "    them as elements in a new tuple. \n",
    "    Extracts all unique strings from from aTuple \n",
    "    and sets them as elements in a new tuple.\n",
    "    Returns a tuple of the minimum integer, the\n",
    "    maximum integer, and the number of unique strings\n",
    "    \"\"\"\n",
    "    nums = ()    # empty tuple\n",
    "    words = ()\n",
    "    for t in aTuple:\n",
    "        # concatenating with a singleton tuple\n",
    "        nums = nums + (t[0],)   \n",
    "        # only add words haven't added before\n",
    "        if t[1] not in words:   \n",
    "            words = words + (t[1],)\n",
    "    min_n = min(nums)\n",
    "    max_n = max(nums)\n",
    "    unique_words = len(words)\n",
    "    return (min_n, max_n, unique_words,words)\n"
   ]
  },
  {
   "cell_type": "code",
   "execution_count": 19,
   "metadata": {},
   "outputs": [
    {
     "name": "stdout",
     "output_type": "stream",
     "text": [
      "From 2008 to 2014 Taylor Swift wrote songs about 5 people!\n"
     ]
    }
   ],
   "source": [
    "# Apply to any data you want!\n",
    "tswift = ((2014,\"Katy\"),\n",
    "          (2014, \"Harry\"),\n",
    "          (2012,\"Jake\"), \n",
    "          (2010,\"Taylor\"), \n",
    "          (2008,\"Joe\"))    \n",
    "(min_year, max_year, num_people,words) = get_data(tswift)\n",
    "print(\"From\", min_year, \"to\", max_year, \\\n",
    "        \"Taylor Swift wrote songs about\", num_people, \"people!\")"
   ]
  },
  {
   "cell_type": "code",
   "execution_count": 20,
   "metadata": {},
   "outputs": [
    {
     "data": {
      "text/plain": [
       "('Katy', 'Harry', 'Jake', 'Taylor', 'Joe')"
      ]
     },
     "execution_count": 20,
     "metadata": {},
     "output_type": "execute_result"
    }
   ],
   "source": [
    "words"
   ]
  },
  {
   "cell_type": "markdown",
   "metadata": {},
   "source": [
    "Now let's see some examples to illustrate the properties of a list"
   ]
  },
  {
   "cell_type": "code",
   "execution_count": 26,
   "metadata": {},
   "outputs": [
    {
     "name": "stdout",
     "output_type": "stream",
     "text": [
      "10\n",
      "10\n"
     ]
    }
   ],
   "source": [
    "## EXAMPLE: sum of elements in a list\n",
    "#########################\n",
    "def sum_elem_method1(L):\n",
    "  total = 0 \n",
    "  for i in range(len(L)): \n",
    "      total += L[i] \n",
    "  return total\n",
    "  \n",
    "def sum_elem_method2(L):\n",
    "    total = 0 \n",
    "    for i in L: \n",
    "        total += i \n",
    "    return total\n",
    "  \n",
    "print(sum_elem_method1([1,2,3,4]))\n",
    "print(sum_elem_method2([1,2,3,4]))"
   ]
  },
  {
   "cell_type": "code",
   "execution_count": 32,
   "metadata": {},
   "outputs": [
    {
     "name": "stdout",
     "output_type": "stream",
     "text": [
      "L3: [2, 1, 3, 4, 5, 6]\n",
      "L1: [2, 1, 3, 0, 6]\n"
     ]
    }
   ],
   "source": [
    "## EXAMPLE: various list operations\n",
    "## put print(L) at different locations to see how it gets mutated\n",
    "#########################\n",
    "L1 = [2,1,3]\n",
    "L2 = [4,5,6]\n",
    "L3 = L1 + L2\n",
    "L1.extend([0,6])\n",
    "\n",
    "print(\"L3:\",L3)\n",
    "print(\"L1:\",L1)"
   ]
  },
  {
   "cell_type": "code",
   "execution_count": 39,
   "metadata": {},
   "outputs": [
    {
     "name": "stdout",
     "output_type": "stream",
     "text": [
      "[1, 3, 6, 3, 7, 0]\n",
      "[1, 6, 3, 7, 0]\n",
      "[1, 3, 7, 0]\n",
      "0\n",
      "[1, 3, 7]\n"
     ]
    }
   ],
   "source": [
    "## Examples of how to mutate a list\n",
    "\n",
    "L = [2,1,3,6,3,7,0]\n",
    "L.remove(2)\n",
    "print(L)\n",
    "\n",
    "L.remove(3)\n",
    "print(L)\n",
    "\n",
    "del(L[1])\n",
    "print(L)\n",
    "##\n",
    "\n",
    "##erases last element of list\n",
    "print(L.pop())\n",
    "print(L)"
   ]
  },
  {
   "cell_type": "code",
   "execution_count": 41,
   "metadata": {},
   "outputs": [
    {
     "name": "stdout",
     "output_type": "stream",
     "text": [
      "['I', '<', '3', ' ', 'c', 's']\n",
      "['I', '3 cs']\n",
      "abc\n",
      "a_b_c\n"
     ]
    }
   ],
   "source": [
    "## Example of how to convert strings to list\n",
    "\n",
    "s = \"I<3 cs\"\n",
    "print(list(s))\n",
    "\n",
    "## Split the list using <\n",
    "print(s.split('<'))\n",
    "\n",
    "\n",
    "## Convert list to string\n",
    "L = ['a', 'b', 'c']\n",
    "print(''.join(L))\n",
    "print('_'.join(L))"
   ]
  },
  {
   "cell_type": "code",
   "execution_count": 45,
   "metadata": {},
   "outputs": [
    {
     "name": "stdout",
     "output_type": "stream",
     "text": [
      "[0, 3, 6, 9]\n"
     ]
    }
   ],
   "source": [
    "## Sort list examples\n",
    "L=[9,6,0,3]\n",
    "print(sorted(L))\n",
    "\n",
    "## Mutate the list order using list methods\n",
    "L.sort()\n",
    "L.reverse()"
   ]
  },
  {
   "cell_type": "code",
   "execution_count": 47,
   "metadata": {},
   "outputs": [
    {
     "name": "stdout",
     "output_type": "stream",
     "text": [
      "1\n",
      "1\n",
      "['red', 'yellow', 'orange', 'pink']\n",
      "['red', 'yellow', 'orange', 'pink']\n"
     ]
    }
   ],
   "source": [
    "## EXAMPLE: aliasing\n",
    "#########################\n",
    "a = 1\n",
    "b = a\n",
    "print(a)\n",
    "print(b)\n",
    "\n",
    "warm = ['red', 'yellow', 'orange']\n",
    "hot = warm\n",
    "hot.append('pink')\n",
    "print(hot)\n",
    "print(warm)"
   ]
  },
  {
   "cell_type": "code",
   "execution_count": 48,
   "metadata": {},
   "outputs": [
    {
     "name": "stdout",
     "output_type": "stream",
     "text": [
      "['blue', 'green', 'grey', 'black']\n",
      "['blue', 'green', 'grey']\n"
     ]
    }
   ],
   "source": [
    "## EXAMPLE: cloning\n",
    "#########################\n",
    "cool = ['blue', 'green', 'grey']\n",
    "chill = cool[:]\n",
    "chill.append('black')\n",
    "print(chill)\n",
    "print(cool)"
   ]
  },
  {
   "cell_type": "code",
   "execution_count": 49,
   "metadata": {},
   "outputs": [
    {
     "name": "stdout",
     "output_type": "stream",
     "text": [
      "['orange', 'red', 'yellow']\n",
      "None\n",
      "['grey', 'green', 'blue']\n",
      "['blue', 'green', 'grey']\n"
     ]
    }
   ],
   "source": [
    "## EXAMPLE: sorting with/without mutation\n",
    "#########################\n",
    "warm = ['red', 'yellow', 'orange']\n",
    "sortedwarm = warm.sort()\n",
    "print(warm)\n",
    "print(sortedwarm)\n",
    "\n",
    "cool = ['grey', 'green', 'blue']\n",
    "sortedcool = sorted(cool)\n",
    "print(cool)\n",
    "print(sortedcool)"
   ]
  },
  {
   "cell_type": "code",
   "execution_count": 51,
   "metadata": {},
   "outputs": [
    {
     "name": "stdout",
     "output_type": "stream",
     "text": [
      "[['yellow', 'orange'], ['red']]\n",
      "['red', 'pink']\n",
      "[['yellow', 'orange'], ['red', 'pink']]\n"
     ]
    }
   ],
   "source": [
    "## EXAMPLE: lists of lists of lists...\n",
    "#########################\n",
    "warm = ['yellow', 'orange']\n",
    "hot = ['red']\n",
    "brightcolors = [warm]\n",
    "brightcolors.append(hot)\n",
    "print(brightcolors)\n",
    "hot.append('pink')\n",
    "print(hot)\n",
    "print(brightcolors)\n"
   ]
  },
  {
   "cell_type": "code",
   "execution_count": 66,
   "metadata": {},
   "outputs": [],
   "source": [
    "## EXAMPLE: mutating a list while iterating over it\n",
    "###############################\n",
    "def remove_dups(L1, L2):\n",
    "    for e in L1:\n",
    "        print(L1)\n",
    "        print(e)\n",
    "        if e in L2:\n",
    "            L1.remove(e)\n",
    "      \n",
    "def remove_dups_new(L1, L2):\n",
    "    L1_copy = L1[:]\n",
    "    for e in L1_copy:\n",
    "        print(L1)\n",
    "        print(e)\n",
    "        if e in L2:\n",
    "            L1.remove(e)\n"
   ]
  },
  {
   "cell_type": "code",
   "execution_count": 67,
   "metadata": {},
   "outputs": [
    {
     "name": "stdout",
     "output_type": "stream",
     "text": [
      "[1, 2, 3, 4]\n",
      "1\n",
      "[2, 3, 4]\n",
      "3\n",
      "[2, 3, 4]\n",
      "4\n",
      "[2, 3, 4] [1, 2, 5, 6]\n"
     ]
    }
   ],
   "source": [
    "L1 = [1, 2, 3, 4]\n",
    "L2 = [1, 2, 5, 6]\n",
    "remove_dups(L1, L2)\n",
    "print(L1, L2)\n"
   ]
  },
  {
   "cell_type": "markdown",
   "metadata": {},
   "source": [
    "L1 is [2,3,4] not [3,4] Why?\n",
    "\n",
    "- Python uses an internal counter to keep track of index it is in the loop\n",
    "- mutating changes the list length but Python doesn’t update the counter\n",
    "- loop never sees element 2"
   ]
  },
  {
   "cell_type": "code",
   "execution_count": 68,
   "metadata": {},
   "outputs": [
    {
     "name": "stdout",
     "output_type": "stream",
     "text": [
      "[1, 2, 3, 4]\n",
      "1\n",
      "[2, 3, 4]\n",
      "2\n",
      "[3, 4]\n",
      "3\n",
      "[3, 4]\n",
      "4\n",
      "[3, 4] [1, 2, 5, 6]\n"
     ]
    }
   ],
   "source": [
    "## The solution is to clone L1 and iterate over this cloned list in this case L1_copy\n",
    "\n",
    "L1 = [1, 2, 3, 4]\n",
    "L2 = [1, 2, 5, 6]\n",
    "remove_dups_new(L1, L2)\n",
    "print(L1, L2)"
   ]
  },
  {
   "cell_type": "code",
   "execution_count": 90,
   "metadata": {},
   "outputs": [
    {
     "name": "stdout",
     "output_type": "stream",
     "text": [
      "cool: ['blue', 'green']\n",
      "warm: ['red', 'yellow', 'orange']\n"
     ]
    }
   ],
   "source": [
    "## EXERCISE: Other exercices to predict what the output is and \n",
    "##           what gets mutated. We can check with the Python Tutor: http://www.pythontutor.com/\n",
    "###############################\n",
    "cool = ['blue', 'green']\n",
    "warm = ['red', 'yellow', 'orange']\n",
    "print(\"cool:\",cool)\n",
    "print(\"warm:\",warm)\n"
   ]
  },
  {
   "cell_type": "code",
   "execution_count": 84,
   "metadata": {},
   "outputs": [
    {
     "name": "stdout",
     "output_type": "stream",
     "text": [
      "warm: ['yellow', 'orange']\n"
     ]
    }
   ],
   "source": [
    "## Remove \"red\" element from list\n",
    "warm.remove('red') \n",
    "print(\"warm:\",warm)"
   ]
  },
  {
   "cell_type": "code",
   "execution_count": 85,
   "metadata": {},
   "outputs": [
    {
     "name": "stdout",
     "output_type": "stream",
     "text": [
      "[['blue', 'green']]\n",
      "colors1 =  [['blue', 'green'], ['yellow', 'orange']]\n"
     ]
    }
   ],
   "source": [
    "colors1 = [cool]\n",
    "print(colors1)\n",
    "colors1.append(warm)\n",
    "print('colors1 = ', colors1)"
   ]
  },
  {
   "cell_type": "code",
   "execution_count": 86,
   "metadata": {},
   "outputs": [
    {
     "name": "stdout",
     "output_type": "stream",
     "text": [
      "colors2 = [['blue', 'green'], ['red', 'yellow', 'orange']]\n"
     ]
    }
   ],
   "source": [
    "colors2 = [['blue', 'green'],\n",
    "          ['red', 'yellow', 'orange']]\n",
    "print('colors2 =', colors2)"
   ]
  },
  {
   "cell_type": "code",
   "execution_count": 87,
   "metadata": {},
   "outputs": [
    {
     "name": "stdout",
     "output_type": "stream",
     "text": [
      "e = ['blue', 'green']\n",
      "e = ['yellow', 'orange']\n"
     ]
    }
   ],
   "source": [
    "## Print the elements in list\n",
    "\n",
    "for e in colors1:\n",
    "    print('e =', e)"
   ]
  },
  {
   "cell_type": "code",
   "execution_count": 88,
   "metadata": {},
   "outputs": [
    {
     "name": "stdout",
     "output_type": "stream",
     "text": [
      "blue\n",
      "green\n",
      "yellow\n",
      "orange\n"
     ]
    }
   ],
   "source": [
    "## Print if elements in the list are inside a lists\n",
    "\n",
    "for e in colors1:\n",
    "    if type(e) == list:\n",
    "        for e1 in e:\n",
    "            print(e1)\n",
    "    else:\n",
    "        print(e)"
   ]
  },
  {
   "cell_type": "code",
   "execution_count": 91,
   "metadata": {},
   "outputs": [
    {
     "name": "stdout",
     "output_type": "stream",
     "text": [
      "flat = ['blue', 'green', 'red', 'yellow', 'orange']\n"
     ]
    }
   ],
   "source": [
    "flat = cool + warm\n",
    "print('flat =', flat)"
   ]
  },
  {
   "cell_type": "code",
   "execution_count": 93,
   "metadata": {},
   "outputs": [
    {
     "name": "stdout",
     "output_type": "stream",
     "text": [
      "flat = ['blue', 'green', 'orange', 'red', 'yellow']\n"
     ]
    }
   ],
   "source": [
    "flat.sort()\n",
    "print('flat =', flat)"
   ]
  },
  {
   "cell_type": "code",
   "execution_count": 94,
   "metadata": {},
   "outputs": [
    {
     "name": "stdout",
     "output_type": "stream",
     "text": [
      "flat = ['blue', 'green', 'orange', 'red', 'yellow']\n",
      "new_flat = ['yellow', 'red', 'orange', 'green', 'blue']\n"
     ]
    }
   ],
   "source": [
    "new_flat = sorted(flat, reverse = True)\n",
    "print('flat =', flat)\n",
    "print('new_flat =', new_flat)\n"
   ]
  },
  {
   "cell_type": "code",
   "execution_count": 96,
   "metadata": {},
   "outputs": [
    {
     "name": "stdout",
     "output_type": "stream",
     "text": [
      "['blue', 'black']\n"
     ]
    }
   ],
   "source": [
    "cool[1] = 'black'\n",
    "print(cool)"
   ]
  },
  {
   "cell_type": "code",
   "execution_count": null,
   "metadata": {},
   "outputs": [],
   "source": []
  }
 ],
 "metadata": {
  "kernelspec": {
   "display_name": "Python 3",
   "language": "python",
   "name": "python3"
  },
  "language_info": {
   "codemirror_mode": {
    "name": "ipython",
    "version": 3
   },
   "file_extension": ".py",
   "mimetype": "text/x-python",
   "name": "python",
   "nbconvert_exporter": "python",
   "pygments_lexer": "ipython3",
   "version": "3.7.4"
  }
 },
 "nbformat": 4,
 "nbformat_minor": 4
}
